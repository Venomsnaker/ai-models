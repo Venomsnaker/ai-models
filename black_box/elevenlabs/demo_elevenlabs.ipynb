{
 "cells": [
  {
   "cell_type": "code",
   "execution_count": null,
   "id": "0d884f20",
   "metadata": {},
   "outputs": [],
   "source": [
    "from elevenlabs_client import ElevenLabsClient\n",
    "from elevenlabs import save\n",
    "\n",
    "from dotenv import load_dotenv\n",
    "import os\n",
    "\n",
    "load_dotenv()\n",
    "client = ElevenLabsClient(api_key=os.getenv(\"ELEVENLABS_API_KEY\"))\n",
    "\n",
    "if __name__ == \"__main__\":\n",
    "    audio = client.ttx(text=\"Hello, this is a test of the ElevenLabs client.\", voice_id=\"JBFqnCBsd6RMkjVDRZzb\")\n",
    "    save(audio, filename=\"../../data/output.wav\")"
   ]
  }
 ],
 "metadata": {
  "kernelspec": {
   "display_name": "base-11",
   "language": "python",
   "name": "python3"
  },
  "language_info": {
   "codemirror_mode": {
    "name": "ipython",
    "version": 3
   },
   "file_extension": ".py",
   "mimetype": "text/x-python",
   "name": "python",
   "nbconvert_exporter": "python",
   "pygments_lexer": "ipython3",
   "version": "3.11.13"
  }
 },
 "nbformat": 4,
 "nbformat_minor": 5
}
