{
 "cells": [
  {
   "cell_type": "code",
   "execution_count": null,
   "id": "7613de97",
   "metadata": {},
   "outputs": [],
   "source": [
    "from xai_client import XAIClient\n",
    "from dotenv import load_dotenv\n",
    "import os\n",
    "\n",
    "load_dotenv()\n",
    "client = XAIClient(api_key=os.getenv(\"XAI_API_KEY\"), model=\"grok-3-fast\")\n",
    "\n",
    "if __name__ == \"__main__\":\n",
    "    response = client.generate_response(prompt='What is the capital of Malaysia?')\n",
    "    print(response)"
   ]
  }
 ],
 "metadata": {
  "language_info": {
   "name": "python"
  }
 },
 "nbformat": 4,
 "nbformat_minor": 5
}
